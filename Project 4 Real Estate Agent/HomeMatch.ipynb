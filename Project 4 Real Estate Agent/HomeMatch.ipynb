{
 "cells": [
  {
   "cell_type": "markdown",
   "id": "65b3675d",
   "metadata": {},
   "source": [
    "## Step 0: Prerequisites of the application"
   ]
  },
  {
   "cell_type": "markdown",
   "id": "f250d477",
   "metadata": {},
   "source": [
    "<div class=\"alert alert-block alert-info\">\n",
    "<b>Instructions:</b> <br>\n",
    "✅ Uncomment the lines below and run the cell.<br>\n",
    "✅ Comment the lines back and Restart the Kernel and run the remaining cells.     \n",
    "</div>"
   ]
  },
  {
   "cell_type": "code",
   "execution_count": 1,
   "id": "2cdbdb2a",
   "metadata": {
    "scrolled": true
   },
   "outputs": [],
   "source": [
    "# !pip install pandas\n",
    "# !pip install -q -r ./requirements.txt\n"
   ]
  },
  {
   "cell_type": "markdown",
   "id": "5d47f53b",
   "metadata": {},
   "source": [
    "## Step 1: Setting up Python Application"
   ]
  },
  {
   "cell_type": "markdown",
   "id": "f13a55d3",
   "metadata": {},
   "source": [
    "<div class=\"alert alert-block alert-info\">\n",
    "<b>Project Instructions:</b> <br>\n",
    "✅ Initialize a Python Project: Create a new Python project, setting up a virtual environment and installing necessary packages like LangChain, a suitable LLM library (e.g., OpenAI's GPT), and a vector database package compatible with Python (e.g., ChromaDB or LanceDB). If you don't wish to create your files from scratch, starter files are available in the workspace on the next page as an application skeleton.\n",
    "</div>"
   ]
  },
  {
   "cell_type": "markdown",
   "id": "b92fb30b",
   "metadata": {},
   "source": [
    "### 1.1 Importing Libraries"
   ]
  },
  {
   "cell_type": "code",
   "execution_count": 3,
   "id": "6554fd4c",
   "metadata": {},
   "outputs": [],
   "source": [
    "import json\n",
    "from langchain.chains import ConversationChain\n",
    "from langchain.embeddings.openai import OpenAIEmbeddings\n",
    "from langchain.chat_models import ChatOpenAI\n",
    "from langchain.chains.conversational_retrieval.base import ConversationalRetrievalChain\n",
    "from langchain.output_parsers import PydanticOutputParser\n",
    "from langchain.memory import ConversationSummaryMemory, ConversationBufferMemory, CombinedMemory, ChatMessageHistory\n",
    "from langchain.prompts import PromptTemplate\n",
    "from langchain.schema import Document\n",
    "from langchain.vectorstores import Chroma\n",
    "import os\n",
    "from pydantic import BaseModel, Field, NonNegativeInt\n",
    "from typing import Any, Dict, List, Optional, Tuple\n",
    "import pandas as pd\n"
   ]
  },
  {
   "cell_type": "markdown",
   "id": "9a35560b",
   "metadata": {},
   "source": [
    "### 1.2. Setting Open AI Variables"
   ]
  },
  {
   "cell_type": "code",
   "execution_count": 4,
   "id": "35d3ee57",
   "metadata": {},
   "outputs": [],
   "source": [
    "os.environ[\"OPENAI_API_KEY\"] = \"<Insert OpenAI Key here>\"\n",
    "os.environ[\"OPENAI_API_BASE\"] = \"https://openai.vocareum.com/v1\"\n"
   ]
  },
  {
   "cell_type": "markdown",
   "id": "c8760ad2",
   "metadata": {},
   "source": [
    "## Step 2: Generating Real Estate Listings"
   ]
  },
  {
   "cell_type": "markdown",
   "id": "278452c5",
   "metadata": {},
   "source": [
    "<div class=\"alert alert-block alert-info\">\n",
    "<b>Project Instructions:</b> <br>\n",
    "✅ Generate real estate listings using a Large Language Model. \n",
    "✅ Generate at least 10 listings This can involve creating prompts for the LLM to produce descriptions of various properties.\n",
    "</div>"
   ]
  },
  {
   "cell_type": "markdown",
   "id": "796c945b",
   "metadata": {},
   "source": [
    "### 2.1. Setting Constants"
   ]
  },
  {
   "cell_type": "code",
   "execution_count": 5,
   "id": "2fd2eb31",
   "metadata": {},
   "outputs": [],
   "source": [
    "MODEL_NAME=\"gpt-3.5-turbo\"\n",
    "TEMPERATURE=0\n",
    "MAX_TOKENS=1500\n",
    "NUMBER_OF_LISTINGS=12"
   ]
  },
  {
   "cell_type": "markdown",
   "id": "da3eaffc",
   "metadata": {},
   "source": [
    "### 2.2. Setting the LLM Model"
   ]
  },
  {
   "cell_type": "code",
   "execution_count": 6,
   "id": "eb8132d0",
   "metadata": {},
   "outputs": [],
   "source": [
    "llm = ChatOpenAI(model_name=MODEL_NAME, temperature=TEMPERATURE, max_tokens=MAX_TOKENS)"
   ]
  },
  {
   "cell_type": "code",
   "execution_count": 7,
   "id": "fa32b062",
   "metadata": {},
   "outputs": [],
   "source": [
    "class RealEstateListing(BaseModel):\n",
    "    neighborhood: str = Field(description=\"The neighborhood of the real estate\")\n",
    "    price: NonNegativeInt = Field(description=\"The listing price of the real estate in CAD\")\n",
    "    bedrooms: NonNegativeInt = Field(description=\"The number of bedrooms in the real estate\")\n",
    "    bathrooms: NonNegativeInt = Field(description=\"The number of bathrooms in the real estate\")\n",
    "    size: NonNegativeInt = Field(description=\"The sq ft. area of the real estate\")\n",
    "    description: str = Field(description=\"The description of the real estate\")\n",
    "    neighborhood_description: str = Field(description=\"The description of the neighborhood of the real estate\")\n",
    "        \n",
    "class ListOfRealEstateLlisting(BaseModel):\n",
    "    listOfRealEstates: List[RealEstateListing] = Field(description=\"List of Real Estate Listings\")"
   ]
  },
  {
   "cell_type": "code",
   "execution_count": 8,
   "id": "4aebfc3a",
   "metadata": {},
   "outputs": [],
   "source": [
    "parser = PydanticOutputParser(pydantic_object=ListOfRealEstateLlisting)"
   ]
  },
  {
   "cell_type": "code",
   "execution_count": 9,
   "id": "882cb9d8",
   "metadata": {},
   "outputs": [
    {
     "name": "stdout",
     "output_type": "stream",
     "text": [
      "The output should be formatted as a JSON instance that conforms to the JSON schema below.\n",
      "\n",
      "As an example, for the schema {\"properties\": {\"foo\": {\"title\": \"Foo\", \"description\": \"a list of strings\", \"type\": \"array\", \"items\": {\"type\": \"string\"}}}, \"required\": [\"foo\"]}\n",
      "the object {\"foo\": [\"bar\", \"baz\"]} is a well-formatted instance of the schema. The object {\"properties\": {\"foo\": [\"bar\", \"baz\"]}} is not well-formatted.\n",
      "\n",
      "Here is the output schema:\n",
      "```\n",
      "{\"properties\": {\"listOfRealEstates\": {\"title\": \"Listofrealestates\", \"description\": \"List of Real Estate Listings\", \"type\": \"array\", \"items\": {\"$ref\": \"#/definitions/RealEstateListing\"}}}, \"required\": [\"listOfRealEstates\"], \"definitions\": {\"RealEstateListing\": {\"title\": \"RealEstateListing\", \"type\": \"object\", \"properties\": {\"neighborhood\": {\"title\": \"Neighborhood\", \"description\": \"The neighborhood of the real estate\", \"type\": \"string\"}, \"price\": {\"title\": \"Price\", \"description\": \"The listing price of the real estate in CAD\", \"minimum\": 0, \"type\": \"integer\"}, \"bedrooms\": {\"title\": \"Bedrooms\", \"description\": \"The number of bedrooms in the real estate\", \"minimum\": 0, \"type\": \"integer\"}, \"bathrooms\": {\"title\": \"Bathrooms\", \"description\": \"The number of bathrooms in the real estate\", \"minimum\": 0, \"type\": \"integer\"}, \"size\": {\"title\": \"Size\", \"description\": \"The sq ft. area of the real estate\", \"minimum\": 0, \"type\": \"integer\"}, \"description\": {\"title\": \"Description\", \"description\": \"The description of the real estate\", \"type\": \"string\"}, \"neighborhood_description\": {\"title\": \"Neighborhood Description\", \"description\": \"The description of the neighborhood of the real estate\", \"type\": \"string\"}}, \"required\": [\"neighborhood\", \"price\", \"bedrooms\", \"bathrooms\", \"size\", \"description\", \"neighborhood_description\"]}}}\n",
      "```\n"
     ]
    }
   ],
   "source": [
    "print(parser.get_format_instructions())"
   ]
  },
  {
   "cell_type": "markdown",
   "id": "0dfaac91",
   "metadata": {},
   "source": [
    "### 2.3. Setting the prompt template"
   ]
  },
  {
   "cell_type": "code",
   "execution_count": 10,
   "id": "1e0563b7",
   "metadata": {},
   "outputs": [],
   "source": [
    "INSTRUCTION = \"Generate {number_of_listings} real estate listing in Metro Vancouver region. It should be a mix of different housing types like condominiums (condos), townhouses, semi-detached homes, detached houses, duplexes, and laneway houses.\".format(number_of_listings=NUMBER_OF_LISTINGS)\n",
    "\n",
    "LISTING_EXAMPLE = \"\"\"\n",
    "Below is an example of a listing:\n",
    "Neighborhood: Green Oaks\n",
    "Price: CAD800,000\n",
    "Bedrooms: 3\n",
    "Bathrooms: 2\n",
    "House Size: 2,000 sqft\n",
    "Description: Welcome to this eco-friendly oasis nestled in the heart of Green Oaks. This charming 3-bedroom, 2-bathroom home boasts energy-efficient features such as solar panels and a well-insulated structure. Natural light floods the living spaces, highlighting the beautiful hardwood floors and eco-conscious finishes. The open-concept kitchen and dining area lead to a spacious backyard with a vegetable garden, perfect for the eco-conscious family. Embrace sustainable living without compromising on style in this Green Oaks gem.\n",
    "Neighborhood Description: Green Oaks is a close-knit, environmentally-conscious community with access to organic grocery stores, community gardens, and bike paths. Take a stroll through the nearby Green Oaks Park or grab a cup of coffee at the cozy Green Bean Cafe. With easy access to public transportation and bike lanes, commuting is a breeze.\n",
    "\"\"\""
   ]
  },
  {
   "cell_type": "markdown",
   "id": "60a99e31",
   "metadata": {},
   "source": [
    "### 2.4. Building the prompt"
   ]
  },
  {
   "cell_type": "code",
   "execution_count": 11,
   "id": "8a257702",
   "metadata": {
    "scrolled": true
   },
   "outputs": [
    {
     "name": "stdout",
     "output_type": "stream",
     "text": [
      "Generate 12 real estate listing in Metro Vancouver region. It should be a mix of different housing types like condominiums (condos), townhouses, semi-detached homes, detached houses, duplexes, and laneway houses.\n",
      "The output should be formatted as a JSON instance that conforms to the JSON schema below.\n",
      "\n",
      "As an example, for the schema {\"properties\": {\"foo\": {\"title\": \"Foo\", \"description\": \"a list of strings\", \"type\": \"array\", \"items\": {\"type\": \"string\"}}}, \"required\": [\"foo\"]}\n",
      "the object {\"foo\": [\"bar\", \"baz\"]} is a well-formatted instance of the schema. The object {\"properties\": {\"foo\": [\"bar\", \"baz\"]}} is not well-formatted.\n",
      "\n",
      "Here is the output schema:\n",
      "```\n",
      "{\"properties\": {\"listOfRealEstates\": {\"title\": \"Listofrealestates\", \"description\": \"List of Real Estate Listings\", \"type\": \"array\", \"items\": {\"$ref\": \"#/definitions/RealEstateListing\"}}}, \"required\": [\"listOfRealEstates\"], \"definitions\": {\"RealEstateListing\": {\"title\": \"RealEstateListing\", \"type\": \"object\", \"properties\": {\"neighborhood\": {\"title\": \"Neighborhood\", \"description\": \"The neighborhood of the real estate\", \"type\": \"string\"}, \"price\": {\"title\": \"Price\", \"description\": \"The listing price of the real estate in CAD\", \"minimum\": 0, \"type\": \"integer\"}, \"bedrooms\": {\"title\": \"Bedrooms\", \"description\": \"The number of bedrooms in the real estate\", \"minimum\": 0, \"type\": \"integer\"}, \"bathrooms\": {\"title\": \"Bathrooms\", \"description\": \"The number of bathrooms in the real estate\", \"minimum\": 0, \"type\": \"integer\"}, \"size\": {\"title\": \"Size\", \"description\": \"The sq ft. area of the real estate\", \"minimum\": 0, \"type\": \"integer\"}, \"description\": {\"title\": \"Description\", \"description\": \"The description of the real estate\", \"type\": \"string\"}, \"neighborhood_description\": {\"title\": \"Neighborhood Description\", \"description\": \"The description of the neighborhood of the real estate\", \"type\": \"string\"}}, \"required\": [\"neighborhood\", \"price\", \"bedrooms\", \"bathrooms\", \"size\", \"description\", \"neighborhood_description\"]}}}\n",
      "```\n",
      "Context: \n",
      "Below is an example of a listing:\n",
      "Neighborhood: Green Oaks\n",
      "Price: CAD800,000\n",
      "Bedrooms: 3\n",
      "Bathrooms: 2\n",
      "House Size: 2,000 sqft\n",
      "Description: Welcome to this eco-friendly oasis nestled in the heart of Green Oaks. This charming 3-bedroom, 2-bathroom home boasts energy-efficient features such as solar panels and a well-insulated structure. Natural light floods the living spaces, highlighting the beautiful hardwood floors and eco-conscious finishes. The open-concept kitchen and dining area lead to a spacious backyard with a vegetable garden, perfect for the eco-conscious family. Embrace sustainable living without compromising on style in this Green Oaks gem.\n",
      "Neighborhood Description: Green Oaks is a close-knit, environmentally-conscious community with access to organic grocery stores, community gardens, and bike paths. Take a stroll through the nearby Green Oaks Park or grab a cup of coffee at the cozy Green Bean Cafe. With easy access to public transportation and bike lanes, commuting is a breeze.\n",
      "\n"
     ]
    }
   ],
   "source": [
    "prompt = PromptTemplate(\n",
    "    template=\"{instruction}\\n{format_instructions}\\nContext: {example}\",\n",
    "    input_variables=[\"instruction\", \"example\"],\n",
    "    partial_variables={\"format_instructions\": parser.get_format_instructions},\n",
    ")\n",
    "\n",
    "query = prompt.format(instruction=INSTRUCTION, example=LISTING_EXAMPLE)\n",
    "print(query)"
   ]
  },
  {
   "cell_type": "markdown",
   "id": "24a974fc",
   "metadata": {},
   "source": [
    "### 2.5. Generate output from LLM"
   ]
  },
  {
   "cell_type": "code",
   "execution_count": 12,
   "id": "bf1c28e8",
   "metadata": {
    "scrolled": true
   },
   "outputs": [],
   "source": [
    "output = llm.predict(query)"
   ]
  },
  {
   "cell_type": "code",
   "execution_count": 13,
   "id": "f1419708",
   "metadata": {
    "scrolled": true
   },
   "outputs": [
    {
     "name": "stdout",
     "output_type": "stream",
     "text": [
      "{\n",
      "  \"listOfRealEstates\": [\n",
      "    {\n",
      "      \"neighborhood\": \"Kitsilano\",\n",
      "      \"price\": 1200000,\n",
      "      \"bedrooms\": 2,\n",
      "      \"bathrooms\": 2,\n",
      "      \"size\": 1500,\n",
      "      \"description\": \"Beautiful waterfront condo with stunning views of the ocean and mountains. Modern design with high-end finishes and amenities.\",\n",
      "      \"neighborhood_description\": \"Kitsilano is a vibrant neighborhood known for its trendy shops, restaurants, and outdoor activities.\"\n",
      "    },\n",
      "    {\n",
      "      \"neighborhood\": \"Mount Pleasant\",\n",
      "      \"price\": 950000,\n",
      "      \"bedrooms\": 3,\n",
      "      \"bathrooms\": 2,\n",
      "      \"size\": 1800,\n",
      "      \"description\": \"Spacious townhouse with a private rooftop deck and attached garage. Close to parks, schools, and public transportation.\",\n",
      "      \"neighborhood_description\": \"Mount Pleasant is a hip neighborhood with a mix of residential and commercial spaces, known for its arts and culture scene.\"\n",
      "    },\n",
      "    {\n",
      "      \"neighborhood\": \"Burnaby Heights\",\n",
      "      \"price\": 1600000,\n",
      "      \"bedrooms\": 4,\n",
      "      \"bathrooms\": 3,\n",
      "      \"size\": 2200,\n",
      "      \"description\": \"Luxurious detached house with a large backyard and modern kitchen. Perfect for families looking for space and comfort.\",\n",
      "      \"neighborhood_description\": \"Burnaby Heights is a family-friendly neighborhood with great schools, parks, and community events.\"\n",
      "    },\n",
      "    {\n",
      "      \"neighborhood\": \"Richmond\",\n",
      "      \"price\": 800000,\n",
      "      \"bedrooms\": 2,\n",
      "      \"bathrooms\": 2,\n",
      "      \"size\": 1200,\n",
      "      \"description\": \"Cozy duplex with a private garden and updated appliances. Close to shopping centers and public transportation.\",\n",
      "      \"neighborhood_description\": \"Richmond is a diverse and multicultural community with a thriving food scene and beautiful parks.\"\n",
      "    },\n",
      "    {\n",
      "      \"neighborhood\": \"Yaletown\",\n",
      "      \"price\": 1500000,\n",
      "      \"bedrooms\": 2,\n",
      "      \"bathrooms\": 2,\n",
      "      \"size\": 1600,\n",
      "      \"description\": \"Sleek and modern condo in the heart of Yaletown. Floor-to-ceiling windows with panoramic city views.\",\n",
      "      \"neighborhood_description\": \"Yaletown is a trendy neighborhood with upscale boutiques, restaurants, and waterfront parks.\"\n",
      "    },\n",
      "    {\n",
      "      \"neighborhood\": \"West End\",\n",
      "      \"price\": 1100000,\n",
      "      \"bedrooms\": 2,\n",
      "      \"bathrooms\": 2,\n",
      "      \"size\": 1400,\n",
      "      \"description\": \"Charming heritage townhouse with original features and a private patio. Walking distance to beaches and Stanley Park.\",\n",
      "      \"neighborhood_description\": \"West End is a diverse and vibrant neighborhood with a mix of residential and commercial spaces, known for its LGBTQ+ community.\"\n",
      "    },\n",
      "    {\n",
      "      \"neighborhood\": \"Coquitlam\",\n",
      "      \"price\": 1000000,\n",
      "      \"bedrooms\": 3,\n",
      "      \"bathrooms\": 2,\n",
      "      \"size\": 2000,\n",
      "      \"description\": \"Spacious semi-detached home with a large backyard and mountain views. Close to schools and recreational facilities.\",\n",
      "      \"neighborhood_description\": \"Coquitlam is a family-friendly suburb with great outdoor spaces, shopping centers, and community events.\"\n",
      "    },\n",
      "    {\n",
      "      \"neighborhood\": \"North Vancouver\",\n",
      "      \"price\": 1300000,\n",
      "      \"bedrooms\": 4,\n",
      "      \"bathrooms\": 3,\n",
      "      \"size\": 2400,\n",
      "      \"description\": \"Modern laneway house with a rooftop deck and energy-efficient features. Conveniently located near public transportation.\",\n",
      "      \"neighborhood_description\": \"North Vancouver is a nature lover's paradise with hiking trails, ski resorts, and waterfront parks.\"\n",
      "    },\n",
      "    {\n",
      "      \"neighborhood\": \"Surrey\",\n",
      "      \"price\": 900000,\n",
      "      \"bedrooms\": 3,\n",
      "      \"bathrooms\": 2,\n",
      "      \"size\": 1800,\n",
      "      \"description\": \"Bright and spacious detached house with a large backyard and updated kitchen. Close to schools and shopping centers.\",\n",
      "      \"neighborhood_description\": \"Surrey is a growing city with a mix of urban and suburban neighborhoods, known for its cultural diversity and community events.\"\n",
      "    },\n",
      "    {\n",
      "      \"neighborhood\": \"Port Moody\",\n",
      "      \"price\": 850000,\n",
      "      \"bedrooms\": 2,\n",
      "      \"bathrooms\": 2,\n",
      "      \"size\": 1600,\n",
      "      \"description\": \"Modern duplex with a private patio and mountain views. Walking distance to parks, trails, and breweries.\",\n",
      "      \"neighborhood_description\": \"Port Moody is a charming waterfront community with a laid-back vibe, known for its outdoor activities and local breweries.\"\n",
      "    },\n",
      "    {\n",
      "      \"neighborhood\": \"New Westminster\",\n",
      "      \"price\": 950000,\n",
      "      \"bedrooms\": 3,\n",
      "      \"bathrooms\": 2,\n",
      "      \"size\": 1800,\n",
      "      \"description\": \"Renovated townhouse with a spacious layout and updated appliances. Close to schools, parks, and public transportation.\",\n",
      "      \"neighborhood_description\": \"New Westminster is a historic city with a mix of residential and commercial spaces, known for its heritage buildings and waterfront views.\"\n",
      "    },\n",
      "    {\n",
      "      \"neighborhood\": \"Delta\",\n",
      "      \"price\": 1200000,\n",
      "      \"bedrooms\": 4,\n",
      "      \"bathrooms\": 3,\n",
      "      \"size\": 2200,\n",
      "      \"description\": \"Custom-built detached house with a large backyard and gourmet kitchen. Perfect for families looking for luxury and comfort.\",\n",
      "      \"neighborhood_description\": \"Delta is a peaceful suburb with a mix of residential and agricultural areas, known for its farmland and outdoor activities.\"\n",
      "    }\n",
      "  ]\n",
      "}\n"
     ]
    }
   ],
   "source": [
    "print(output)"
   ]
  },
  {
   "cell_type": "code",
   "execution_count": 14,
   "id": "afa61d65",
   "metadata": {
    "scrolled": true
   },
   "outputs": [
    {
     "name": "stdout",
     "output_type": "stream",
     "text": [
      "[RealEstateListing(neighborhood='Kitsilano', price=1200000, bedrooms=2, bathrooms=2, size=1500, description='Beautiful waterfront condo with stunning views of the ocean and mountains. Modern design with high-end finishes and amenities.', neighborhood_description='Kitsilano is a vibrant neighborhood known for its trendy shops, restaurants, and outdoor activities.'), RealEstateListing(neighborhood='Mount Pleasant', price=950000, bedrooms=3, bathrooms=2, size=1800, description='Spacious townhouse with a private rooftop deck and attached garage. Close to parks, schools, and public transportation.', neighborhood_description='Mount Pleasant is a hip neighborhood with a mix of residential and commercial spaces, known for its arts and culture scene.'), RealEstateListing(neighborhood='Burnaby Heights', price=1600000, bedrooms=4, bathrooms=3, size=2200, description='Luxurious detached house with a large backyard and modern kitchen. Perfect for families looking for space and comfort.', neighborhood_description='Burnaby Heights is a family-friendly neighborhood with great schools, parks, and community events.'), RealEstateListing(neighborhood='Richmond', price=800000, bedrooms=2, bathrooms=2, size=1200, description='Cozy duplex with a private garden and updated appliances. Close to shopping centers and public transportation.', neighborhood_description='Richmond is a diverse and multicultural community with a thriving food scene and beautiful parks.'), RealEstateListing(neighborhood='Yaletown', price=1500000, bedrooms=2, bathrooms=2, size=1600, description='Sleek and modern condo in the heart of Yaletown. Floor-to-ceiling windows with panoramic city views.', neighborhood_description='Yaletown is a trendy neighborhood with upscale boutiques, restaurants, and waterfront parks.'), RealEstateListing(neighborhood='West End', price=1100000, bedrooms=2, bathrooms=2, size=1400, description='Charming heritage townhouse with original features and a private patio. Walking distance to beaches and Stanley Park.', neighborhood_description='West End is a diverse and vibrant neighborhood with a mix of residential and commercial spaces, known for its LGBTQ+ community.'), RealEstateListing(neighborhood='Coquitlam', price=1000000, bedrooms=3, bathrooms=2, size=2000, description='Spacious semi-detached home with a large backyard and mountain views. Close to schools and recreational facilities.', neighborhood_description='Coquitlam is a family-friendly suburb with great outdoor spaces, shopping centers, and community events.'), RealEstateListing(neighborhood='North Vancouver', price=1300000, bedrooms=4, bathrooms=3, size=2400, description='Modern laneway house with a rooftop deck and energy-efficient features. Conveniently located near public transportation.', neighborhood_description=\"North Vancouver is a nature lover's paradise with hiking trails, ski resorts, and waterfront parks.\"), RealEstateListing(neighborhood='Surrey', price=900000, bedrooms=3, bathrooms=2, size=1800, description='Bright and spacious detached house with a large backyard and updated kitchen. Close to schools and shopping centers.', neighborhood_description='Surrey is a growing city with a mix of urban and suburban neighborhoods, known for its cultural diversity and community events.'), RealEstateListing(neighborhood='Port Moody', price=850000, bedrooms=2, bathrooms=2, size=1600, description='Modern duplex with a private patio and mountain views. Walking distance to parks, trails, and breweries.', neighborhood_description='Port Moody is a charming waterfront community with a laid-back vibe, known for its outdoor activities and local breweries.'), RealEstateListing(neighborhood='New Westminster', price=950000, bedrooms=3, bathrooms=2, size=1800, description='Renovated townhouse with a spacious layout and updated appliances. Close to schools, parks, and public transportation.', neighborhood_description='New Westminster is a historic city with a mix of residential and commercial spaces, known for its heritage buildings and waterfront views.'), RealEstateListing(neighborhood='Delta', price=1200000, bedrooms=4, bathrooms=3, size=2200, description='Custom-built detached house with a large backyard and gourmet kitchen. Perfect for families looking for luxury and comfort.', neighborhood_description='Delta is a peaceful suburb with a mix of residential and agricultural areas, known for its farmland and outdoor activities.')]\n"
     ]
    }
   ],
   "source": [
    "result = parser.parse(output)\n",
    "print(result.listOfRealEstates)"
   ]
  },
  {
   "cell_type": "code",
   "execution_count": 15,
   "id": "e1865d79",
   "metadata": {},
   "outputs": [
    {
     "data": {
      "text/html": [
       "<div>\n",
       "<style scoped>\n",
       "    .dataframe tbody tr th:only-of-type {\n",
       "        vertical-align: middle;\n",
       "    }\n",
       "\n",
       "    .dataframe tbody tr th {\n",
       "        vertical-align: top;\n",
       "    }\n",
       "\n",
       "    .dataframe thead th {\n",
       "        text-align: right;\n",
       "    }\n",
       "</style>\n",
       "<table border=\"1\" class=\"dataframe\">\n",
       "  <thead>\n",
       "    <tr style=\"text-align: right;\">\n",
       "      <th></th>\n",
       "      <th>index</th>\n",
       "      <th>neighborhood</th>\n",
       "      <th>price</th>\n",
       "      <th>bedrooms</th>\n",
       "      <th>bathrooms</th>\n",
       "      <th>size</th>\n",
       "      <th>description</th>\n",
       "      <th>neighborhood_description</th>\n",
       "    </tr>\n",
       "  </thead>\n",
       "  <tbody>\n",
       "    <tr>\n",
       "      <th>0</th>\n",
       "      <td>0</td>\n",
       "      <td>Kitsilano</td>\n",
       "      <td>1200000</td>\n",
       "      <td>2</td>\n",
       "      <td>2</td>\n",
       "      <td>1500</td>\n",
       "      <td>Beautiful waterfront condo with stunning views...</td>\n",
       "      <td>Kitsilano is a vibrant neighborhood known for ...</td>\n",
       "    </tr>\n",
       "    <tr>\n",
       "      <th>1</th>\n",
       "      <td>1</td>\n",
       "      <td>Mount Pleasant</td>\n",
       "      <td>950000</td>\n",
       "      <td>3</td>\n",
       "      <td>2</td>\n",
       "      <td>1800</td>\n",
       "      <td>Spacious townhouse with a private rooftop deck...</td>\n",
       "      <td>Mount Pleasant is a hip neighborhood with a mi...</td>\n",
       "    </tr>\n",
       "    <tr>\n",
       "      <th>2</th>\n",
       "      <td>2</td>\n",
       "      <td>Burnaby Heights</td>\n",
       "      <td>1600000</td>\n",
       "      <td>4</td>\n",
       "      <td>3</td>\n",
       "      <td>2200</td>\n",
       "      <td>Luxurious detached house with a large backyard...</td>\n",
       "      <td>Burnaby Heights is a family-friendly neighborh...</td>\n",
       "    </tr>\n",
       "    <tr>\n",
       "      <th>3</th>\n",
       "      <td>3</td>\n",
       "      <td>Richmond</td>\n",
       "      <td>800000</td>\n",
       "      <td>2</td>\n",
       "      <td>2</td>\n",
       "      <td>1200</td>\n",
       "      <td>Cozy duplex with a private garden and updated ...</td>\n",
       "      <td>Richmond is a diverse and multicultural commun...</td>\n",
       "    </tr>\n",
       "    <tr>\n",
       "      <th>4</th>\n",
       "      <td>4</td>\n",
       "      <td>Yaletown</td>\n",
       "      <td>1500000</td>\n",
       "      <td>2</td>\n",
       "      <td>2</td>\n",
       "      <td>1600</td>\n",
       "      <td>Sleek and modern condo in the heart of Yaletow...</td>\n",
       "      <td>Yaletown is a trendy neighborhood with upscale...</td>\n",
       "    </tr>\n",
       "    <tr>\n",
       "      <th>5</th>\n",
       "      <td>5</td>\n",
       "      <td>West End</td>\n",
       "      <td>1100000</td>\n",
       "      <td>2</td>\n",
       "      <td>2</td>\n",
       "      <td>1400</td>\n",
       "      <td>Charming heritage townhouse with original feat...</td>\n",
       "      <td>West End is a diverse and vibrant neighborhood...</td>\n",
       "    </tr>\n",
       "    <tr>\n",
       "      <th>6</th>\n",
       "      <td>6</td>\n",
       "      <td>Coquitlam</td>\n",
       "      <td>1000000</td>\n",
       "      <td>3</td>\n",
       "      <td>2</td>\n",
       "      <td>2000</td>\n",
       "      <td>Spacious semi-detached home with a large backy...</td>\n",
       "      <td>Coquitlam is a family-friendly suburb with gre...</td>\n",
       "    </tr>\n",
       "    <tr>\n",
       "      <th>7</th>\n",
       "      <td>7</td>\n",
       "      <td>North Vancouver</td>\n",
       "      <td>1300000</td>\n",
       "      <td>4</td>\n",
       "      <td>3</td>\n",
       "      <td>2400</td>\n",
       "      <td>Modern laneway house with a rooftop deck and e...</td>\n",
       "      <td>North Vancouver is a nature lover's paradise w...</td>\n",
       "    </tr>\n",
       "    <tr>\n",
       "      <th>8</th>\n",
       "      <td>8</td>\n",
       "      <td>Surrey</td>\n",
       "      <td>900000</td>\n",
       "      <td>3</td>\n",
       "      <td>2</td>\n",
       "      <td>1800</td>\n",
       "      <td>Bright and spacious detached house with a larg...</td>\n",
       "      <td>Surrey is a growing city with a mix of urban a...</td>\n",
       "    </tr>\n",
       "    <tr>\n",
       "      <th>9</th>\n",
       "      <td>9</td>\n",
       "      <td>Port Moody</td>\n",
       "      <td>850000</td>\n",
       "      <td>2</td>\n",
       "      <td>2</td>\n",
       "      <td>1600</td>\n",
       "      <td>Modern duplex with a private patio and mountai...</td>\n",
       "      <td>Port Moody is a charming waterfront community ...</td>\n",
       "    </tr>\n",
       "    <tr>\n",
       "      <th>10</th>\n",
       "      <td>10</td>\n",
       "      <td>New Westminster</td>\n",
       "      <td>950000</td>\n",
       "      <td>3</td>\n",
       "      <td>2</td>\n",
       "      <td>1800</td>\n",
       "      <td>Renovated townhouse with a spacious layout and...</td>\n",
       "      <td>New Westminster is a historic city with a mix ...</td>\n",
       "    </tr>\n",
       "    <tr>\n",
       "      <th>11</th>\n",
       "      <td>11</td>\n",
       "      <td>Delta</td>\n",
       "      <td>1200000</td>\n",
       "      <td>4</td>\n",
       "      <td>3</td>\n",
       "      <td>2200</td>\n",
       "      <td>Custom-built detached house with a large backy...</td>\n",
       "      <td>Delta is a peaceful suburb with a mix of resid...</td>\n",
       "    </tr>\n",
       "  </tbody>\n",
       "</table>\n",
       "</div>"
      ],
      "text/plain": [
       "    index     neighborhood    price  bedrooms  bathrooms  size  \\\n",
       "0       0        Kitsilano  1200000         2          2  1500   \n",
       "1       1   Mount Pleasant   950000         3          2  1800   \n",
       "2       2  Burnaby Heights  1600000         4          3  2200   \n",
       "3       3         Richmond   800000         2          2  1200   \n",
       "4       4         Yaletown  1500000         2          2  1600   \n",
       "5       5         West End  1100000         2          2  1400   \n",
       "6       6        Coquitlam  1000000         3          2  2000   \n",
       "7       7  North Vancouver  1300000         4          3  2400   \n",
       "8       8           Surrey   900000         3          2  1800   \n",
       "9       9       Port Moody   850000         2          2  1600   \n",
       "10     10  New Westminster   950000         3          2  1800   \n",
       "11     11            Delta  1200000         4          3  2200   \n",
       "\n",
       "                                          description  \\\n",
       "0   Beautiful waterfront condo with stunning views...   \n",
       "1   Spacious townhouse with a private rooftop deck...   \n",
       "2   Luxurious detached house with a large backyard...   \n",
       "3   Cozy duplex with a private garden and updated ...   \n",
       "4   Sleek and modern condo in the heart of Yaletow...   \n",
       "5   Charming heritage townhouse with original feat...   \n",
       "6   Spacious semi-detached home with a large backy...   \n",
       "7   Modern laneway house with a rooftop deck and e...   \n",
       "8   Bright and spacious detached house with a larg...   \n",
       "9   Modern duplex with a private patio and mountai...   \n",
       "10  Renovated townhouse with a spacious layout and...   \n",
       "11  Custom-built detached house with a large backy...   \n",
       "\n",
       "                             neighborhood_description  \n",
       "0   Kitsilano is a vibrant neighborhood known for ...  \n",
       "1   Mount Pleasant is a hip neighborhood with a mi...  \n",
       "2   Burnaby Heights is a family-friendly neighborh...  \n",
       "3   Richmond is a diverse and multicultural commun...  \n",
       "4   Yaletown is a trendy neighborhood with upscale...  \n",
       "5   West End is a diverse and vibrant neighborhood...  \n",
       "6   Coquitlam is a family-friendly suburb with gre...  \n",
       "7   North Vancouver is a nature lover's paradise w...  \n",
       "8   Surrey is a growing city with a mix of urban a...  \n",
       "9   Port Moody is a charming waterfront community ...  \n",
       "10  New Westminster is a historic city with a mix ...  \n",
       "11  Delta is a peaceful suburb with a mix of resid...  "
      ]
     },
     "execution_count": 15,
     "metadata": {},
     "output_type": "execute_result"
    }
   ],
   "source": [
    "df = pd.DataFrame([listing.dict() for listing in result.listOfRealEstates])\n",
    "df = df.reset_index()\n",
    "df.head(15)"
   ]
  },
  {
   "cell_type": "code",
   "execution_count": 16,
   "id": "04a10e05",
   "metadata": {},
   "outputs": [],
   "source": [
    "df.to_csv('real_estate_listings.csv')\n"
   ]
  },
  {
   "cell_type": "markdown",
   "id": "3e99950c",
   "metadata": {},
   "source": [
    "## Step 3:  Storing Listings in a Vector Database"
   ]
  },
  {
   "cell_type": "markdown",
   "id": "410aaa59",
   "metadata": {},
   "source": [
    "<div class=\"alert alert-block alert-info\">\n",
    "<b>Project Instructions:</b> <br>\n",
    "✅ Vector Database Setup: Initialize and configure ChromaDB or a similar vector database to store real estate listings.<br>\n",
    "✅ Generating and Storing Embeddings: Convert the LLM-generated listings into suitable embeddings that capture the semantic content of each listing, and store these embeddings in the vector database.\n",
    "</div>"
   ]
  },
  {
   "cell_type": "markdown",
   "id": "5b41f772",
   "metadata": {},
   "source": [
    "### 3.1. Vector Database Setup"
   ]
  },
  {
   "cell_type": "markdown",
   "id": "dd64ba05",
   "metadata": {},
   "source": [
    "#### Create or get a collection for real estate listings\n"
   ]
  },
  {
   "cell_type": "code",
   "execution_count": 17,
   "id": "a3fa1590",
   "metadata": {},
   "outputs": [],
   "source": [
    "documents = [\n",
    "    Document(\n",
    "        page_content=f\"{row['description']} Neighborhood: {row['neighborhood_description']}\",\n",
    "        metadata={\n",
    "            \"index\": row[\"index\"],\n",
    "            \"neighborhood\": row[\"neighborhood\"],\n",
    "            \"price\": row[\"price\"],\n",
    "            \"bedrooms\": row[\"bedrooms\"],\n",
    "            \"bathrooms\": row[\"bathrooms\"],\n",
    "            \"size\": row[\"size\"]\n",
    "        }\n",
    "    )\n",
    "    for _, row in df.iterrows()\n",
    "]"
   ]
  },
  {
   "cell_type": "markdown",
   "id": "e815b604",
   "metadata": {},
   "source": [
    "### 3.2. Generate and Store Embeddings"
   ]
  },
  {
   "cell_type": "code",
   "execution_count": 18,
   "id": "59774151",
   "metadata": {},
   "outputs": [],
   "source": [
    "# !rm -rf ./real_estate_chroma\n"
   ]
  },
  {
   "cell_type": "code",
   "execution_count": 19,
   "id": "1fe98595",
   "metadata": {},
   "outputs": [],
   "source": [
    "db = Chroma.from_documents(\n",
    "    documents=documents,\n",
    "    embedding=OpenAIEmbeddings(),\n",
    "    persist_directory=\"./real_estate_chroma\"\n",
    ")\n",
    "\n"
   ]
  },
  {
   "cell_type": "markdown",
   "id": "8f2d8e7b",
   "metadata": {},
   "source": [
    "## Step 4: Building the User Preference Interface\n"
   ]
  },
  {
   "cell_type": "markdown",
   "id": "4e5eaa95",
   "metadata": {},
   "source": [
    "<div class=\"alert alert-block alert-info\">\n",
    "<b>Project Instructions:</b> <br>\n",
    "✅ Collect buyer preferences, such as the number of bedrooms, bathrooms, location, and other specific requirements from a set of questions or telling the buyer to enter their preferences in natural language. You can hard-code the buyer preferences in questions and answers, or collect them interactively however you'd like.<br>\n",
    "✅ Buyer Preference Parsing: Implement logic to interpret and structure these preferences for querying the vector database.\n",
    "</div>"
   ]
  },
  {
   "cell_type": "code",
   "execution_count": 20,
   "id": "e88b5837",
   "metadata": {},
   "outputs": [],
   "source": [
    "INSTRUCTION = \"\"\"\n",
    "    Based on the Preferences in the context, tell me real estate listings that match the preferences.\n",
    "    Make sure you do not paraphrase the listings.\n",
    "    Only show the listings which exactly match the preferences mentioned below.\n",
    "    \n",
    "    \"\"\"\n",
    "\n",
    "QUESTIONS = [   \n",
    "                \"How big do you want your house to be?\",\n",
    "                \"What are 3 most important things for you in choosing this property?\", \n",
    "                \"Which amenities would you like?\", \n",
    "                \"Which transportation options are important to you?\",\n",
    "                \"How urban do you want your neighborhood to be?\",   \n",
    "            ]\n",
    "ANSWERS = [\n",
    "    \"A comfortable three-bedroom house with a spacious kitchen and a cozy living room.\",\n",
    "    \"A quiet neighborhood, good local schools, and convenient shopping options.\",\n",
    "    \"A backyard for gardening, a two-car garage, and a modern, energy-efficient heating system.\",\n",
    "    \"Easy access to a reliable bus line, proximity to a major highway, and bike-friendly roads.\",\n",
    "    \"A balance between suburban tranquility and access to urban amenities like restaurants and theaters.\"\n",
    "]"
   ]
  },
  {
   "cell_type": "markdown",
   "id": "b68b18da",
   "metadata": {},
   "source": [
    "### 4.1. Create and Store Memory"
   ]
  },
  {
   "cell_type": "markdown",
   "id": "fc79c3fe",
   "metadata": {},
   "source": [
    "#### Add User message in memory"
   ]
  },
  {
   "cell_type": "code",
   "execution_count": 21,
   "id": "1888d366",
   "metadata": {},
   "outputs": [],
   "source": [
    "history = ChatMessageHistory()\n",
    "history.add_user_message(f\"\"\"The goal is to create a personalized experience for each buyer, making the property search process more engaging and tailored to individual preferences. Recommend a real estate listing on their answers to personal questions. Ask user {len(QUESTIONS)} questions\"\"\")\n",
    "\n",
    "for i in range(len(QUESTIONS)):\n",
    "    history.add_ai_message(QUESTIONS[i])\n",
    "    history.add_user_message(ANSWERS[i])\n",
    "\n"
   ]
  },
  {
   "cell_type": "markdown",
   "id": "8d2a625a",
   "metadata": {},
   "source": [
    "#### Add AI message in memory"
   ]
  },
  {
   "cell_type": "code",
   "execution_count": 22,
   "id": "65d6cf92",
   "metadata": {},
   "outputs": [],
   "source": [
    "history.add_ai_message(\"\"\"Now tell me a summary of what type of real estate you're considering, and specify what characteristics you are looking for in your new home!\"\"\")\n",
    "summary_memory = ConversationSummaryMemory(\n",
    "    llm=llm,\n",
    "    memory_key=\"chat_history\",\n",
    "    input_key=\"input\",\n",
    "    buffer=f\"The human answered {len(QUESTIONS)} personal questions). Use them to identify the characteristics of real estate listing and which listing they will like the most.\",\n",
    "    return_messages=True)\n"
   ]
  },
  {
   "cell_type": "markdown",
   "id": "2cc98bf0",
   "metadata": {},
   "source": [
    "#### Create Conversational Memory"
   ]
  },
  {
   "cell_type": "code",
   "execution_count": 23,
   "id": "a62f141e",
   "metadata": {},
   "outputs": [],
   "source": [
    "conversational_memory = ConversationBufferMemory(\n",
    "    chat_memory=history,\n",
    "    memory_key=\"convo\",\n",
    "    input_key=\"question\"\n",
    ")"
   ]
  },
  {
   "cell_type": "markdown",
   "id": "453d92fd",
   "metadata": {},
   "source": [
    "#### Create combined memory"
   ]
  },
  {
   "cell_type": "code",
   "execution_count": 24,
   "id": "5674b3d1",
   "metadata": {},
   "outputs": [],
   "source": [
    "memory = CombinedMemory(memories=[conversational_memory, summary_memory])\n"
   ]
  },
  {
   "cell_type": "markdown",
   "id": "f4a37951",
   "metadata": {},
   "source": [
    "#### Create a prompt"
   ]
  },
  {
   "cell_type": "code",
   "execution_count": 25,
   "id": "a56b55f3",
   "metadata": {},
   "outputs": [
    {
     "name": "stdout",
     "output_type": "stream",
     "text": [
      "input_variables=['context', 'chat_history', 'input'] template=\"\\nYou are AI at 'Future Homes Realty'  a forward-thinking real estate company. \\nWhere personalization is key to customer satisfaction, you revolutionize how clients interact with real estate listings. \\nUsing the provided context and the customer's preferences, offer relevant information about available homes. \\nKeep your response concise and engaging, with a maximum of 300 characters. \\n\\n Context: {context}\\n\\nCustomer's preferences: {chat_history} \\n\\nHuman: {input}\\n\\nAI:\\n\"\n"
     ]
    }
   ],
   "source": [
    "RECOMMENDER_TEMPLATE = \"\"\"\n",
    "You are AI at 'Future Homes Realty'  a forward-thinking real estate company. \n",
    "Where personalization is key to customer satisfaction, you revolutionize how clients interact with real estate listings. \n",
    "Using the provided context and the customer's preferences, offer relevant information about available homes. \n",
    "Keep your response concise and engaging, with a maximum of 300 characters. \n",
    "\\n Context: {context}\n",
    "\\nCustomer's preferences: {chat_history} \n",
    "\\nHuman: {input}\n",
    "\\nAI:\n",
    "\"\"\"\n",
    "PROMPT = PromptTemplate(\n",
    "    template=RECOMMENDER_TEMPLATE,\n",
    "    input_variables=['context', 'chat_history', 'input']\n",
    "    )\n",
    "print(PROMPT)\n"
   ]
  },
  {
   "cell_type": "markdown",
   "id": "15660a88",
   "metadata": {},
   "source": [
    "## Step 5: Searching Based on Preferences\n"
   ]
  },
  {
   "cell_type": "markdown",
   "id": "2b19f767",
   "metadata": {},
   "source": [
    "<div class=\"alert alert-block alert-info\">\n",
    "<b>Project Instructions:</b> <br>\n",
    "✅ Semantic Search Implementation: Use the structured buyer preferences to perform a semantic search on the vector database, retrieving listings that most closely match the user's requirements.<br>\n",
    "✅ Listing Retrieval Logic: Fine-tune the retrieval algorithm to ensure that the most relevant listings are selected based on the semantic closeness to the buyer’s preferences.\n",
    "</div>"
   ]
  },
  {
   "cell_type": "code",
   "execution_count": 26,
   "id": "515801e5",
   "metadata": {},
   "outputs": [],
   "source": [
    "chain = ConversationalRetrievalChain.from_llm(\n",
    "                                llm=llm,\n",
    "                                chain_type=\"stuff\",\n",
    "                                retriever=db.as_retriever(),\n",
    "                                combine_docs_chain_kwargs={'prompt': PROMPT},\n",
    "                                memory=memory\n",
    "                            )"
   ]
  },
  {
   "cell_type": "markdown",
   "id": "e54a20fa",
   "metadata": {},
   "source": [
    "## Step 6: Personalizing Listing Descriptions"
   ]
  },
  {
   "cell_type": "markdown",
   "id": "b3a8e0c5",
   "metadata": {},
   "source": [
    "<div class=\"alert alert-block alert-info\">\n",
    "<b>Project Instructions:</b> <br>\n",
    "✅ LLM Augmentation: For each retrieved listing, use the LLM to augment the description, tailoring it to resonate with the buyer’s specific preferences. This involves subtly emphasizing aspects of the property that align with what the buyer is looking for. <br>\n",
    "✅ Maintaining Factual Integrity: Ensure that the augmentation process enhances the appeal of the listing without altering factual information.\n"
   ]
  },
  {
   "cell_type": "code",
   "execution_count": 27,
   "id": "1cdc906d",
   "metadata": {},
   "outputs": [],
   "source": [
    "query = \"\"\"\n",
    "For each retrieved listing, tailor the description to resonate with the buyer’s specific preferences. \n",
    "This involves subtly emphasizing aspects of the property that align with what the buyer is looking for.\n",
    "Ensure that the augmentation process enhances the appeal of the listing without altering factual information.\n",
    "\"\"\"\n",
    "\n",
    "result = chain({\"question\": query, \"input\": \"Suggest a suitable home. Tell me exactly how it matches my preferences for each of the characteristics I mentioned. If no home found, tell me that no home available based on my preferences\"})\n"
   ]
  },
  {
   "cell_type": "code",
   "execution_count": 28,
   "id": "0e03fa97",
   "metadata": {},
   "outputs": [
    {
     "name": "stdout",
     "output_type": "stream",
     "text": [
      "Based on your preferences, the beautiful heritage-style townhouse in Mount Pleasant matches your desire for a spacious layout, high ceilings, and a private backyard oasis. The gourmet kitchen is perfect for entertaining, and the cozy fireplace aligns with your preference for relaxing evenings. The neighborhood's artsy vibe, trendy eateries, and vibrant community also cater to your preference for a diverse and eclectic area. This home offers the perfect blend of comfort and convenience for you.\n"
     ]
    }
   ],
   "source": [
    "print(result['answer'])"
   ]
  }
 ],
 "metadata": {
  "kernelspec": {
   "display_name": "Python 3 (ipykernel)",
   "language": "python",
   "name": "python3"
  },
  "language_info": {
   "codemirror_mode": {
    "name": "ipython",
    "version": 3
   },
   "file_extension": ".py",
   "mimetype": "text/x-python",
   "name": "python",
   "nbconvert_exporter": "python",
   "pygments_lexer": "ipython3",
   "version": "3.10.11"
  }
 },
 "nbformat": 4,
 "nbformat_minor": 5
}
